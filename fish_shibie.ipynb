{
 "cells": [
  {
   "cell_type": "code",
   "execution_count": null,
   "metadata": {},
   "outputs": [],
   "source": [
    "import os\n",
    "os.environ['CUDA_VISIBLE_DEVICES'] = '0'\n",
    "from paddlex.cls import transforms\n",
    "import paddlex as pdx"
   ]
  },
  {
   "cell_type": "code",
   "execution_count": null,
   "metadata": {},
   "outputs": [],
   "source": [
    "train_transforms = transforms.Compose([\n",
    "    transforms.RandomCrop(crop_size=224), transforms.RandomHorizontalFlip(),\n",
    "    transforms.Normalize()\n",
    "])\n",
    "eval_transforms = transforms.Compose([\n",
    "    transforms.ResizeByShort(short_size=256),\n",
    "    transforms.CenterCrop(crop_size=224), transforms.Normalize()\n",
    "])"
   ]
  },
  {
   "cell_type": "code",
   "execution_count": null,
   "metadata": {},
   "outputs": [],
   "source": [
    "train_dataset = pdx.datasets.ImageNet(\n",
    "    data_dir='fish_image',\n",
    "    file_list='fish_image/train_list.txt',\n",
    "    label_list='fish_image/labels.txt',\n",
    "    transforms=train_transforms)\n",
    "eval_dataset = pdx.datasets.ImageNet(\n",
    "    data_dir='fish_image',\n",
    "    file_list='fish_image/val_list.txt',\n",
    "    label_list='fish_image/labels.txt',\n",
    "    transforms=eval_transforms)"
   ]
  },
  {
   "cell_type": "code",
   "execution_count": null,
   "metadata": {},
   "outputs": [],
   "source": [
    "num_classes = len(train_dataset.labels)\n",
    "num_classes"
   ]
  },
  {
   "cell_type": "code",
   "execution_count": null,
   "metadata": {},
   "outputs": [],
   "source": [
    "model = pdx.cls.ResNet50_vd_ssld(num_classes=len(train_dataset.labels))"
   ]
  },
  {
   "cell_type": "code",
   "execution_count": null,
   "metadata": {},
   "outputs": [],
   "source": [
    "model.train(\n",
    "    num_epochs=1,\n",
    "    train_dataset=train_dataset,\n",
    "    train_batch_size=32,\n",
    "    eval_dataset=eval_dataset,\n",
    "    lr_decay_epochs=[4, 6, 8],\n",
    "    learning_rate=0.025,\n",
    "    save_dir='output/resnet50_vd_ssld',\n",
    "    use_vdl=True)"
   ]
  },
  {
   "cell_type": "code",
   "execution_count": null,
   "metadata": {},
   "outputs": [],
   "source": [
    "import paddlex as pdx\n",
    "import numpy\n",
    "test_jpg = 'fish_004590717446_21918.png'\n",
    "model = pdx.load_model('fish_demo/flask/inference_model/')\n",
    "result = model.predict(test_jpg)\n",
    "print(\"Predict Result: \", result)"
   ]
  },
  {
   "cell_type": "code",
   "execution_count": null,
   "metadata": {},
   "outputs": [],
   "source": [
    "result[0][\"category\"]"
   ]
  },
  {
   "cell_type": "code",
   "execution_count": null,
   "metadata": {},
   "outputs": [],
   "source": []
  }
 ],
 "metadata": {
  "kernelspec": {
   "display_name": "Python 3",
   "language": "python",
   "name": "python3"
  },
  "language_info": {
   "codemirror_mode": {
    "name": "ipython",
    "version": 3
   },
   "file_extension": ".py",
   "mimetype": "text/x-python",
   "name": "python",
   "nbconvert_exporter": "python",
   "pygments_lexer": "ipython3",
   "version": "3.7.6"
  }
 },
 "nbformat": 4,
 "nbformat_minor": 4
}
