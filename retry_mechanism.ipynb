{
 "cells": [
  {
   "cell_type": "markdown",
   "id": "0b9d9120",
   "metadata": {},
   "source": [
    "# 导入所需库\n",
    "导入time、functools等Python标准库，为实现重试机制做准备。"
   ]
  },
  {
   "cell_type": "code",
   "execution_count": null,
   "id": "fc225cc0",
   "metadata": {},
   "outputs": [],
   "source": [
    "import time\n",
    "import functools\n",
    "import random"
   ]
  },
  {
   "cell_type": "markdown",
   "id": "5d525c9d",
   "metadata": {},
   "source": [
    "# 定义重试装饰器\n",
    "编写一个支持重试次数和延迟的装饰器@agent，捕获异常并自动重试。"
   ]
  },
  {
   "cell_type": "code",
   "execution_count": null,
   "id": "4c2e46e6",
   "metadata": {},
   "outputs": [],
   "source": [
    "def agent(max_retries=3, delay=1):\n",
    "    def decorator(func):\n",
    "        @functools.wraps(func)\n",
    "        def wrapper(*args, **kwargs):\n",
    "            for attempt in range(max_retries + 1):\n",
    "                try:\n",
    "                    return func(*args, **kwargs)\n",
    "                except Exception as e:\n",
    "                    if attempt < max_retries:\n",
    "                        print(f\"Attempt {attempt + 1} failed: {e}. Retrying in {delay} seconds...\")\n",
    "                        time.sleep(delay)\n",
    "                    else:\n",
    "                        raise e\n",
    "        return wrapper\n",
    "    return decorator"
   ]
  },
  {
   "cell_type": "markdown",
   "id": "558d9785",
   "metadata": {},
   "source": [
    "# 应用重试装饰器到函数\n",
    "将@agent装饰器应用到一个可能抛出异常的函数上。"
   ]
  },
  {
   "cell_type": "code",
   "execution_count": null,
   "id": "e9c40270",
   "metadata": {},
   "outputs": [],
   "source": [
    "@agent(max_retries=5, delay=2)\n",
    "def unreliable_function():\n",
    "    if random.random() < 0.7:  # 70% chance to fail\n",
    "        raise ValueError(\"Random failure\")\n",
    "    return \"Success!\""
   ]
  },
  {
   "cell_type": "markdown",
   "id": "0a90e2ef",
   "metadata": {},
   "source": [
    "# 测试重试机制\n",
    "调用被装饰的函数，观察重试效果和输出。"
   ]
  },
  {
   "cell_type": "code",
   "execution_count": null,
   "id": "17fc3948",
   "metadata": {},
   "outputs": [],
   "source": [
    "result = unreliable_function()\n",
    "print(f\"Result: {result}\")"
   ]
  }
 ],
 "metadata": {
  "language_info": {
   "name": "python"
  }
 },
 "nbformat": 4,
 "nbformat_minor": 5
}
